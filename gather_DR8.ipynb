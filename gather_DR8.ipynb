{
 "cells": [
  {
   "cell_type": "code",
   "execution_count": 1,
   "metadata": {},
   "outputs": [],
   "source": [
    "from astropy.table import Table\n",
    "import numpy as np\n",
    "import matplotlib.pyplot as plt\n",
    "import glob\n",
    "import os\n",
    "import fitsio\n",
    "import desimodel.io\n",
    "import desitarget.mtl\n",
    "from desitarget.targetmask import desi_mask, obsconditions\n",
    "from collections import Counter\n",
    "%matplotlib inline"
   ]
  },
  {
   "cell_type": "code",
   "execution_count": 32,
   "metadata": {},
   "outputs": [],
   "source": [
    "def get_ids(tgdata):\n",
    "    tgprops = dict()\n",
    "    ii = (tgdata['DEVICE_TYPE']=='POS') & (tgdata['TARGETID']>0)\n",
    "    assigned_ids = tgdata[ii]\n",
    "    return assigned_ids['TARGETID']\n",
    "\n",
    "def count_numobs_done(data_path, mtl_file):\n",
    "    # list the fiberassignment files available\n",
    "    tile_files = glob.glob(os.path.join(data_path, \"fiberassign_*\"))\n",
    "    print('number of available tile files', len(tile_files))\n",
    "    \n",
    "    # getting all the targetids of the assigned fibers\n",
    "    print('reading the individual fiberassign files')\n",
    "    prop_assign = dict()\n",
    "    for i_tile, tile_file in enumerate(tile_files):\n",
    "        if i_tile%200 ==0:\n",
    "            print(i_tile)\n",
    "        assignments = Table.read(tile_file, hdu=1)\n",
    "        prop_assign[i_tile] = get_ids(assignments)\n",
    "    \n",
    "    # consolidate a single list of assigned targetids\n",
    "    print('consolidating a single list of targets')\n",
    "    assigned = list()\n",
    "    for k in prop_assign.keys():\n",
    "        assigned.extend(list(prop_assign[k]))\n",
    "        \n",
    "    # count how many times each target was assigned\n",
    "    print('counting how many times each target was assigned')\n",
    "    counts_assigned = Counter(assigned)\n",
    "    ids_assigned = list(counts_assigned.keys())\n",
    "    \n",
    "    print('loading mtl file')\n",
    "    # load the original mtl file used as an input to fiberassign\n",
    "    input_mtl_data = Table.read(mtl_file)\n",
    "    \n",
    "    #adding a new column to the mtl file\n",
    "    print('adding new column')\n",
    "    input_mtl_data['NUMOBS_DONE'] = np.zeros(len(input_mtl_data), dtype=int)\n",
    "    \n",
    "    #finding what targets in the mtl file overlap with the assignment results\n",
    "    print('finding ID overlap')\n",
    "    overlap_ids = np.isin(input_mtl_data['TARGETID'], ids_assigned)\n",
    "    \n",
    "    #update the new column\n",
    "    print('updating NUMOBS_DONE')\n",
    "    for i, overlap in enumerate(overlap_ids):\n",
    "        if overlap:\n",
    "            input_mtl_data['NUMOBS_DONE'][i] = counts_assigned[input_mtl_data['TARGETID'][i]]\n",
    "            \n",
    "    outputfile = mtl_file.replace('mtl','fiberassigned_mtl')\n",
    "    print('Writing the new results to {}'.format(outputfile))\n",
    "    input_mtl_data.write(outputfile)\n",
    "    print('done')"
   ]
  },
  {
   "cell_type": "code",
   "execution_count": 28,
   "metadata": {},
   "outputs": [
    {
     "name": "stdout",
     "output_type": "stream",
     "text": [
      "number of available tile files 3085\n",
      "reading the individual fiberassign files\n",
      "0\n",
      "consolidating a single list of targets\n",
      "counting how many times each target was assigned\n",
      "loading mtl file\n",
      "adding new column\n",
      "finding ID overlap\n",
      "updating NUMOBS_DONE\n",
      "Writing the new results to dr8_fiberassigned_mtl_dark_gray_southern_cap.fits\n",
      "done\n"
     ]
    }
   ],
   "source": [
    "count_numobs_done(\"dark_south_fiberassign/\", \"dr8_mtl_dark_gray_southern_cap.fits\")"
   ]
  },
  {
   "cell_type": "code",
   "execution_count": 29,
   "metadata": {},
   "outputs": [],
   "source": [
    "fiberassigned_mtl = Table.read(\"dr8_fiberassigned_mtl_dark_gray_southern_cap.fits\")"
   ]
  },
  {
   "cell_type": "code",
   "execution_count": 31,
   "metadata": {},
   "outputs": [
    {
     "data": {
      "text/plain": [
       "<matplotlib.collections.PathCollection at 0x2aaaf4ba47b8>"
      ]
     },
     "execution_count": 31,
     "metadata": {},
     "output_type": "execute_result"
    },
    {
     "data": {
      "image/png": "[encoded data removed]",
      "text/plain": [
       "<matplotlib.figure.Figure at 0x2aaade26d320>"
      ]
     },
     "metadata": {},
     "output_type": "display_data"
    }
   ],
   "source": [
    "ii = fiberassigned_mtl['NUMOBS_DONE']==1\n",
    "plt.scatter(fiberassigned_mtl['RA'][ii], fiberassigned_mtl['DEC'][ii])"
   ]
  },
  {
   "cell_type": "code",
   "execution_count": 93,
   "metadata": {},
   "outputs": [],
   "source": []
  },
  {
   "cell_type": "code",
   "execution_count": 94,
   "metadata": {},
   "outputs": [
    {
     "name": "stdout",
     "output_type": "stream",
     "text": [
      "0\n",
      "200\n",
      "400\n",
      "600\n",
      "800\n",
      "1000\n",
      "1200\n",
      "1400\n",
      "1600\n",
      "1800\n",
      "2000\n",
      "2200\n",
      "2400\n",
      "2600\n",
      "2800\n",
      "3000\n"
     ]
    }
   ],
   "source": []
  },
  {
   "cell_type": "code",
   "execution_count": 97,
   "metadata": {},
   "outputs": [],
   "source": []
  },
  {
   "cell_type": "code",
   "execution_count": 98,
   "metadata": {},
   "outputs": [],
   "source": []
  },
  {
   "cell_type": "code",
   "execution_count": 99,
   "metadata": {},
   "outputs": [],
   "source": []
  },
  {
   "cell_type": "code",
   "execution_count": 61,
   "metadata": {},
   "outputs": [],
   "source": []
  },
  {
   "cell_type": "code",
   "execution_count": 100,
   "metadata": {},
   "outputs": [
    {
     "name": "stdout",
     "output_type": "stream",
     "text": [
      "12012272\n",
      "26788090\n"
     ]
    }
   ],
   "source": [
    "print(len(ids_assigned))\n",
    "print(len(input_mtl_data))"
   ]
  },
  {
   "cell_type": "code",
   "execution_count": 101,
   "metadata": {},
   "outputs": [],
   "source": []
  },
  {
   "cell_type": "code",
   "execution_count": 102,
   "metadata": {},
   "outputs": [],
   "source": []
  },
  {
   "cell_type": "code",
   "execution_count": 103,
   "metadata": {},
   "outputs": [],
   "source": []
  },
  {
   "cell_type": "code",
   "execution_count": 104,
   "metadata": {},
   "outputs": [
    {
     "data": {
      "image/png": "[encoded data removed]",
      "text/plain": [
       "<matplotlib.figure.Figure at 0x2aacd5a4ab70>"
      ]
     },
     "metadata": {},
     "output_type": "display_data"
    }
   ],
   "source": [
    "_ = plt.hist(input_mtl_data['N_OBS_DONE'])"
   ]
  },
  {
   "cell_type": "code",
   "execution_count": null,
   "metadata": {},
   "outputs": [
    {
     "data": {
      "text/plain": [
       "<matplotlib.collections.PathCollection at 0x2aad5d8ee7b8>"
      ]
     },
     "execution_count": 109,
     "metadata": {},
     "output_type": "execute_result"
    }
   ],
   "source": [
    "ii = input_mtl_data['N_OBS_DONE']==0\n",
    "plt.scatter(input_mtl_data['RA'][ii], input_mtl_data['DEC'][ii], s=0.001, alpha=0.2)"
   ]
  },
  {
   "cell_type": "code",
   "execution_count": 1,
   "metadata": {},
   "outputs": [
    {
     "ename": "NameError",
     "evalue": "name 'overlap_ids' is not defined",
     "output_type": "error",
     "traceback": [
      "\u001b[0;31m---------------------------------------------------------------------------\u001b[0m",
      "\u001b[0;31mNameError\u001b[0m                                 Traceback (most recent call last)",
      "\u001b[0;32m<ipython-input-1-4959be933daa>\u001b[0m in \u001b[0;36m<module>\u001b[0;34m()\u001b[0m\n\u001b[0;32m----> 1\u001b[0;31m \u001b[0mprint\u001b[0m\u001b[0;34m(\u001b[0m\u001b[0mlen\u001b[0m\u001b[0;34m(\u001b[0m\u001b[0moverlap_ids\u001b[0m\u001b[0;34m)\u001b[0m\u001b[0;34m)\u001b[0m\u001b[0;34m\u001b[0m\u001b[0m\n\u001b[0m",
      "\u001b[0;31mNameError\u001b[0m: name 'overlap_ids' is not defined"
     ]
    }
   ],
   "source": [
    "print(len(overlap_ids))"
   ]
  },
  {
   "cell_type": "code",
   "execution_count": null,
   "metadata": {},
   "outputs": [],
   "source": []
  }
 ],
 "metadata": {
  "kernelspec": {
   "display_name": "DESI 19.2",
   "language": "python",
   "name": "desi-19.2"
  },
  "language_info": {
   "codemirror_mode": {
    "name": "ipython",
    "version": 3
   },
   "file_extension": ".py",
   "mimetype": "text/x-python",
   "name": "python",
   "nbconvert_exporter": "python",
   "pygments_lexer": "ipython3",
   "version": "3.6.6"
  }
 },
 "nbformat": 4,
 "nbformat_minor": 2
}

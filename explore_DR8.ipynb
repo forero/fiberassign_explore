{
 "cells": [
  {
   "cell_type": "code",
   "execution_count": 1,
   "metadata": {},
   "outputs": [],
   "source": [
    "from astropy.table import Table\n",
    "import numpy as np\n",
    "import matplotlib.pyplot as plt\n",
    "%matplotlib inline"
   ]
  },
  {
   "cell_type": "code",
   "execution_count": 5,
   "metadata": {},
   "outputs": [],
   "source": [
    "targets = dict()\n",
    "targets['south'] = Table.read(\"/global/cscratch1/sd/forero/dr8_tests/south/targets/targets_south_sweep_180.fits\")\n",
    "targets['north'] = Table.read(\"/global/cscratch1/sd/forero/dr8_tests/north/targets/targets_north_sweep_180.fits\")"
   ]
  },
  {
   "cell_type": "code",
   "execution_count": 7,
   "metadata": {},
   "outputs": [
    {
     "data": {
      "text/plain": [
       "(179.49451184536642,\n",
       " 190.50479997087766,\n",
       " -14.389593559274051,\n",
       " 89.465049634210331)"
      ]
     },
     "execution_count": 7,
     "metadata": {},
     "output_type": "execute_result"
    },
    {
     "data": {
      "image/png": "[encoded data removed]",
      "text/plain": [
       "<Figure size 432x288 with 1 Axes>"
      ]
     },
     "metadata": {
      "needs_background": "light"
     },
     "output_type": "display_data"
    }
   ],
   "source": [
    "r = np.random.random(len(targets['north']))\n",
    "rr = r<0.01\n",
    "plt.scatter(targets['north']['RA'][rr], targets['north']['DEC'][rr], s=0.1)\n",
    "\n",
    "r = np.random.random(len(targets['south']))\n",
    "rr = r<0.01\n",
    "plt.scatter(targets['south']['RA'][rr], targets['south']['DEC'][rr], s=0.1)\n",
    "plt.axis('equal')"
   ]
  },
  {
   "cell_type": "code",
   "execution_count": null,
   "metadata": {},
   "outputs": [],
   "source": []
  }
 ],
 "metadata": {
  "kernelspec": {
   "display_name": "DESI 17.9",
   "language": "python",
   "name": "desi-17.9"
  },
  "language_info": {
   "codemirror_mode": {
    "name": "ipython",
    "version": 3
   },
   "file_extension": ".py",
   "mimetype": "text/x-python",
   "name": "python",
   "nbconvert_exporter": "python",
   "pygments_lexer": "ipython3",
   "version": "3.6.8"
  }
 },
 "nbformat": 4,
 "nbformat_minor": 2
}

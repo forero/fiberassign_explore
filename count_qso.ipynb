{
 "cells": [
  {
   "cell_type": "code",
   "execution_count": 17,
   "metadata": {},
   "outputs": [],
   "source": [
    "import matplotlib.pyplot as plt\n",
    "import numpy as np\n",
    "import glob\n",
    "import fitsio\n",
    "from desitarget.targetmask import desi_mask, mws_mask\n",
    "%matplotlib inline"
   ]
  },
  {
   "cell_type": "code",
   "execution_count": 24,
   "metadata": {},
   "outputs": [],
   "source": [
    "data_path = \"/global/cscratch1/sd/forero/fiberassign_explore/py/dark_fiber_output/\"\n",
    "target_file = \"/global/cscratch1/sd/forero/fiberassign_explore/py/mtl_dr7.1-0.27.0.fits\"\n",
    "tile_files = glob.glob(data_path+\"tile*.fits\")"
   ]
  },
  {
   "cell_type": "code",
   "execution_count": 9,
   "metadata": {},
   "outputs": [],
   "source": [
    "target_data = fitsio.read(target_file)"
   ]
  },
  {
   "cell_type": "code",
   "execution_count": 21,
   "metadata": {},
   "outputs": [],
   "source": [
    "ii_qso = (target_data['DESI_TARGET'] & desi_mask.QSO)!=0\n",
    "ii_mws = (target_data['MWS_TARGET']& mws_mask.MWS_BROAD)!=0"
   ]
  },
  {
   "cell_type": "code",
   "execution_count": 23,
   "metadata": {},
   "outputs": [
    {
     "data": {
      "text/plain": [
       "2688189"
      ]
     },
     "execution_count": 23,
     "metadata": {},
     "output_type": "execute_result"
    }
   ],
   "source": [
    "np.count_nonzero(ii_qso)"
   ]
  },
  {
   "cell_type": "code",
   "execution_count": null,
   "metadata": {},
   "outputs": [],
   "source": [
    "qso_id = np.zeros(0, dtype=int)\n",
    "for i in range(len(tile_files)):\n",
    "    tile_data = fitsio.read(tile_files[i])\n",
    "    ii_tile_qso = (tile_data['DESI_TARGET'] & desi_mask.QSO)!=0\n",
    "    qso_id = np.append(qso_id, tile_data['TARGETID'][ii_tile_qso])\n",
    "qso_id = list(set(list(qso_id)))\n",
    "print(len(qso_id))"
   ]
  },
  {
   "cell_type": "code",
   "execution_count": null,
   "metadata": {},
   "outputs": [],
   "source": []
  }
 ],
 "metadata": {
  "kernelspec": {
   "display_name": "DESI master",
   "language": "python",
   "name": "desi-master"
  },
  "language_info": {
   "codemirror_mode": {
    "name": "ipython",
    "version": 3
   },
   "file_extension": ".py",
   "mimetype": "text/x-python",
   "name": "python",
   "nbconvert_exporter": "python",
   "pygments_lexer": "ipython3",
   "version": "3.6.6"
  }
 },
 "nbformat": 4,
 "nbformat_minor": 2
}

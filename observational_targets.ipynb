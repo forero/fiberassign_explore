{
 "cells": [
  {
   "cell_type": "code",
   "execution_count": 2,
   "metadata": {},
   "outputs": [],
   "source": [
    "import os, sys, subprocess\n",
    "from collections import Counter\n",
    "\n",
    "import numpy as np\n",
    "from astropy.table import Table\n",
    "from astropy.io import fits\n",
    "\n",
    "import desimodel.io\n",
    "import desimodel.focalplane\n",
    "import desimodel.footprint\n",
    "from desitarget.targetmask import desi_mask, obsconditions\n",
    "import matplotlib.pyplot as plt\n",
    "%matplotlib inline"
   ]
  },
  {
   "cell_type": "code",
   "execution_count": 3,
   "metadata": {},
   "outputs": [],
   "source": [
    "workdir = os.getenv('SCRATCH') + '/desi/test/fiberassign'\n",
    "os.makedirs(workdir, exist_ok=True)\n",
    "os.chdir(workdir)\n",
    "outdir = workdir + '/output'\n",
    "os.makedirs(outdir, exist_ok=True)"
   ]
  },
  {
   "cell_type": "markdown",
   "metadata": {},
   "source": [
    "Paths and filenames with the observational data"
   ]
  },
  {
   "cell_type": "code",
   "execution_count": 4,
   "metadata": {},
   "outputs": [],
   "source": [
    "paths = {\"targets\": \"/project/projectdirs/desi/target/catalogs/dr7.1/PR372/\", \n",
    "         \"skies\": \"/project/projectdirs/desi/target/catalogs/dr7.1/0.22.0/\", \n",
    "         \"gfas\": \"/project/projectdirs/desi/target/catalogs/dr7.1/0.22.0/\",\n",
    "}\n",
    "\n",
    "names = {\"targets\": \"dr7.1-PR372.fits\", \"skies\":\"dr7.1-0.22.0.fits\", \"gfas\": \"dr7.1.fits\"}"
   ]
  },
  {
   "cell_type": "markdown",
   "metadata": {},
   "source": [
    "Some more files needed to run fiberassign"
   ]
  },
  {
   "cell_type": "code",
   "execution_count": 6,
   "metadata": {},
   "outputs": [],
   "source": [
    "mtlfile = os.path.join(workdir, 'mtl.fits')\n",
    "truthfile = os.path.join(workdir, 'truth.fits')\n",
    "starfile = os.path.join(workdir, 'std.fits')\n",
    "targetcutfile = os.path.join(workdir, 'targets.fits') \n",
    "skycutfile = os.path.join(workdir, 'sky.fits') \n",
    "targetfile = os.path.join(paths[\"targets\"], \"targets-{}\".format(names[\"targets\"]))\n",
    "skyfile = os.path.join(paths[\"skies\"], \"skies-{}\".format(names[\"skies\"]))\n",
    "gfafile = os.path.join(paths[\"gfas\"], \"gfas-{}\".format(names[\"gfas\"]))\n",
    "tilefile = os.path.join(workdir, \"input_tiles.fits\")"
   ]
  },
  {
   "cell_type": "code",
   "execution_count": 12,
   "metadata": {},
   "outputs": [
    {
     "name": "stdout",
     "output_type": "stream",
     "text": [
      "Wrote tiles to /global/cscratch1/sd/forero/desi/test/fiberassign/input_tiles.fits\n"
     ]
    }
   ],
   "source": [
    "# tile selection\n",
    "program = \"dark\"\n",
    "\n",
    "tiles = desimodel.io.load_tiles()\n",
    "bright = tiles['PROGRAM']=='BRIGHT'\n",
    "    \n",
    "small = ((tiles['RA']>12) & (tiles['RA']<20) & (tiles['DEC']<1) & (tiles['DEC']>-1))\n",
    "\n",
    "if program==\"bright\":\n",
    "    Table(tiles[(bright)&(small)]).write(tilefile, overwrite=True)\n",
    "else:\n",
    "    Table(tiles[(~bright) & (small)]).write(tilefile, overwrite=True)\n",
    "\n",
    "print(\"Wrote tiles to {}\".format(tilefile))"
   ]
  },
  {
   "cell_type": "code",
   "execution_count": null,
   "metadata": {},
   "outputs": [],
   "source": []
  }
 ],
 "metadata": {
  "kernelspec": {
   "display_name": "DESI master",
   "language": "python",
   "name": "desi-master"
  },
  "language_info": {
   "codemirror_mode": {
    "name": "ipython",
    "version": 3
   },
   "file_extension": ".py",
   "mimetype": "text/x-python",
   "name": "python",
   "nbconvert_exporter": "python",
   "pygments_lexer": "ipython3",
   "version": "3.6.6"
  }
 },
 "nbformat": 4,
 "nbformat_minor": 2
}

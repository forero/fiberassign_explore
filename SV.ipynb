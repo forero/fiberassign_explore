{
 "cells": [
  {
   "cell_type": "markdown",
   "metadata": {},
   "source": [
    "The main goal of this notebook is to explore SV simulated outputs\n",
    "from the SV data challenge `svdc2019c`"
   ]
  },
  {
   "cell_type": "code",
   "execution_count": 2,
   "metadata": {},
   "outputs": [],
   "source": [
    "import numpy as np\n",
    "import matplotlib.pyplot as plt\n",
    "import os\n",
    "import glob\n",
    "from astropy.table import Table\n",
    "from desitarget.sv1.sv1_targetmask import desi_mask, bgs_mask, mws_mask\n",
    "from collections import Counter\n",
    "\n",
    "%matplotlib inline"
   ]
  },
  {
   "cell_type": "markdown",
   "metadata": {},
   "source": [
    "First some environment definitions"
   ]
  },
  {
   "cell_type": "code",
   "execution_count": 23,
   "metadata": {},
   "outputs": [],
   "source": [
    "def get_assigned_covered(tiles, targets, outdir):\n",
    "    assigned_ids = list()\n",
    "    covered_ids = list()\n",
    "    for tileid in tiles['TILEID']:\n",
    "        tilefile = '{}/tile-{:06d}.fits'.format(outdir, tileid)\n",
    "        assignments = Table.read(tilefile, 'FIBERASSIGN')\n",
    "        assigned_ids.extend(assignments['TARGETID'])\n",
    "\n",
    "        #- Note: a single target could be covered by more than one fiber on the same\n",
    "        #- tile, but it still can only be assigned once, so use np.unique() per tile\n",
    "        #- to not double count those cases\n",
    "        potential = Table.read(tilefile, 'POTENTIAL_ASSIGNMENTS')\n",
    "        covered_ids.extend(np.unique(potential['TARGETID']))\n",
    "\n",
    "    #- Trim to just science targets (i.e. not SKY, not non-science STDSTAR)\n",
    "    assigned_ids = np.array(assigned_ids)\n",
    "    ii = np.in1d(assigned_ids, targets['TARGETID'])\n",
    "    assigned_ids = assigned_ids[ii]\n",
    "\n",
    "    covered_ids = np.array(covered_ids)\n",
    "    ii = np.in1d(covered_ids, targets['TARGETID'])\n",
    "    covered_ids = covered_ids[ii]\n",
    "\n",
    "    return assigned_ids, covered_ids\n",
    "\n",
    "#- Do a bit of counting magic to include targets that were never assigned or covered\n",
    "def count_coverage(ids, targets):\n",
    "    c = Counter(ids)\n",
    "    c.update(targets['TARGETID'])\n",
    "    count = np.array(list(c.values())) - 1\n",
    "    return count\n",
    "\n",
    "def summary_SV(SV_program='SV_BGS'):\n",
    "    sv_main_dir = '/global/cscratch1/sd/mjwilson/svdc2019c/' \n",
    "    fiberassign_sub_dir = 'fiberassign/{}/'.format(SV_program)\n",
    "    fib_dir = os.path.join(sv_main_dir, fiberassign_sub_dir)\n",
    "    \n",
    "    # Read the input catalog data\n",
    "    mtl_file = Table.read(os.path.join(sv_main_dir, 'targets', 'mtl-{}.fits'.format(SV_program)))\n",
    "    \n",
    "    # Make a list of all available tiles\n",
    "    tile_names = glob.glob(fib_dir+\"/tile*.fits\")\n",
    "    print(fib_dir)\n",
    "    n_tiles = len(tile_names)\n",
    "    print('Total number of tiles {}'.format(n_tiles))\n",
    "    \n",
    "    # read all the assigned targets\n",
    "    assignments = list()\n",
    "    for tilefile in tile_names:\n",
    "        assignments.append(Table.read(tilefile, 'FIBERASSIGN'))\n",
    "    assigned_targetids = np.concatenate([tmp['TARGETID'] for tmp in assignments])\n",
    "    \n",
    "    \n",
    "\n",
    "    # count the number of times that a target was available and the times it got a fiber\n",
    "    tiles = Table.read(\"{}/survey/{}-tiles.fits\".format(sv_main_dir, SV_program))\n",
    "    assigned_ids, covered_ids = get_assigned_covered(tiles, mtl_file, fib_dir)\n",
    "    assigned_count = count_coverage(assigned_ids, mtl_file)\n",
    "    covered_count = count_coverage(covered_ids, mtl_file)\n",
    "    \n",
    "    \n",
    "    plt.figure(figsize=(16,8))\n",
    "\n",
    "    #plot the coverage on the sky\n",
    "    plt.subplot(2,2,1)\n",
    "    isAssigned = np.in1d(mtl_file['TARGETID'], assigned_targetids)\n",
    "    plt.plot(mtl_file['RA'][isAssigned], mtl_file['DEC'][isAssigned], 'k,')\n",
    "    plt.title('Targets assigned to fibers. Program: {}. N_tiles: {}'.format(SV_program, n_tiles))\n",
    "    plt.xlabel('RA [deg]')\n",
    "    plt.ylabel('DEC [deg]')\n",
    "    # plot_tiles(tiles)\n",
    "    \n",
    "    plt.subplot(2,2,2)\n",
    "    plt.hist(assigned_count, 11, (-0.5, 10.5), rwidth=0.8, label=SV_program)\n",
    "    plt.xticks(np.arange(0,11))\n",
    "    plt.xlabel('number of times assigned')\n",
    "    plt.legend()\n",
    "\n",
    "    plt.subplot(2,2,4)\n",
    "    plt.hist(covered_count, 11, (-0.5, 10.5), rwidth=0.8, label=SV_program)\n",
    "    plt.xticks(np.arange(0,11))\n",
    "    plt.xlabel('number of times covered')\n",
    "    plt.legend()\n",
    "\n",
    "    plt.tight_layout()"
   ]
  },
  {
   "cell_type": "code",
   "execution_count": 24,
   "metadata": {},
   "outputs": [
    {
     "name": "stdout",
     "output_type": "stream",
     "text": [
      "/global/cscratch1/sd/mjwilson/svdc2019c/fiberassign/SV_BGS/\n",
      "Total number of tiles 28\n"
     ]
    },
    {
     "ename": "NameError",
     "evalue": "name 'SV_prgram' is not defined",
     "output_type": "error",
     "traceback": [
      "\u001b[0;31m---------------------------------------------------------------------------\u001b[0m",
      "\u001b[0;31mNameError\u001b[0m                                 Traceback (most recent call last)",
      "\u001b[0;32m<ipython-input-24-b05bd1db94ba>\u001b[0m in \u001b[0;36m<module>\u001b[0;34m()\u001b[0m\n\u001b[0;32m----> 1\u001b[0;31m \u001b[0msummary_SV\u001b[0m\u001b[0;34m(\u001b[0m\u001b[0mSV_program\u001b[0m\u001b[0;34m=\u001b[0m\u001b[0;34m'SV_BGS'\u001b[0m\u001b[0;34m)\u001b[0m\u001b[0;34m\u001b[0m\u001b[0m\n\u001b[0m",
      "\u001b[0;32m<ipython-input-23-6451419c9cfd>\u001b[0m in \u001b[0;36msummary_SV\u001b[0;34m(SV_program)\u001b[0m\n\u001b[1;32m     66\u001b[0m     \u001b[0misAssigned\u001b[0m \u001b[0;34m=\u001b[0m \u001b[0mnp\u001b[0m\u001b[0;34m.\u001b[0m\u001b[0min1d\u001b[0m\u001b[0;34m(\u001b[0m\u001b[0mmtl_file\u001b[0m\u001b[0;34m[\u001b[0m\u001b[0;34m'TARGETID'\u001b[0m\u001b[0;34m]\u001b[0m\u001b[0;34m,\u001b[0m \u001b[0massigned_targetids\u001b[0m\u001b[0;34m)\u001b[0m\u001b[0;34m\u001b[0m\u001b[0m\n\u001b[1;32m     67\u001b[0m     \u001b[0mplt\u001b[0m\u001b[0;34m.\u001b[0m\u001b[0mplot\u001b[0m\u001b[0;34m(\u001b[0m\u001b[0mmtl_file\u001b[0m\u001b[0;34m[\u001b[0m\u001b[0;34m'RA'\u001b[0m\u001b[0;34m]\u001b[0m\u001b[0;34m[\u001b[0m\u001b[0misAssigned\u001b[0m\u001b[0;34m]\u001b[0m\u001b[0;34m,\u001b[0m \u001b[0mmtl_file\u001b[0m\u001b[0;34m[\u001b[0m\u001b[0;34m'DEC'\u001b[0m\u001b[0;34m]\u001b[0m\u001b[0;34m[\u001b[0m\u001b[0misAssigned\u001b[0m\u001b[0;34m]\u001b[0m\u001b[0;34m,\u001b[0m \u001b[0;34m'k,'\u001b[0m\u001b[0;34m)\u001b[0m\u001b[0;34m\u001b[0m\u001b[0m\n\u001b[0;32m---> 68\u001b[0;31m     \u001b[0mplt\u001b[0m\u001b[0;34m.\u001b[0m\u001b[0mtitle\u001b[0m\u001b[0;34m(\u001b[0m\u001b[0;34m'Targets assigned to fibers. Program: {}. N_tiles: {}'\u001b[0m\u001b[0;34m.\u001b[0m\u001b[0mformat\u001b[0m\u001b[0;34m(\u001b[0m\u001b[0mSV_prgram\u001b[0m\u001b[0;34m,\u001b[0m \u001b[0mn_tiles\u001b[0m\u001b[0;34m)\u001b[0m\u001b[0;34m)\u001b[0m\u001b[0;34m\u001b[0m\u001b[0m\n\u001b[0m\u001b[1;32m     69\u001b[0m     \u001b[0mplt\u001b[0m\u001b[0;34m.\u001b[0m\u001b[0mxlabel\u001b[0m\u001b[0;34m(\u001b[0m\u001b[0;34m'RA [deg]'\u001b[0m\u001b[0;34m)\u001b[0m\u001b[0;34m\u001b[0m\u001b[0m\n\u001b[1;32m     70\u001b[0m     \u001b[0mplt\u001b[0m\u001b[0;34m.\u001b[0m\u001b[0mylabel\u001b[0m\u001b[0;34m(\u001b[0m\u001b[0;34m'DEC [deg]'\u001b[0m\u001b[0;34m)\u001b[0m\u001b[0;34m\u001b[0m\u001b[0m\n",
      "\u001b[0;31mNameError\u001b[0m: name 'SV_prgram' is not defined"
     ]
    },
    {
     "data": {
      "image/png": "[encoded data removed]",
      "text/plain": [
       "<matplotlib.figure.Figure at 0x2aaae7218c88>"
      ]
     },
     "metadata": {},
     "output_type": "display_data"
    }
   ],
   "source": [
    "summary_SV(SV_program='SV_BGS')"
   ]
  },
  {
   "cell_type": "code",
   "execution_count": 5,
   "metadata": {},
   "outputs": [],
   "source": []
  },
  {
   "cell_type": "markdown",
   "metadata": {},
   "source": []
  },
  {
   "cell_type": "code",
   "execution_count": 6,
   "metadata": {},
   "outputs": [
    {
     "name": "stdout",
     "output_type": "stream",
     "text": [
      "/global/cscratch1/sd/mjwilson/svdc2019c/fiberassign/SV_BGS/\n"
     ]
    }
   ],
   "source": []
  },
  {
   "cell_type": "code",
   "execution_count": 7,
   "metadata": {},
   "outputs": [
    {
     "name": "stdout",
     "output_type": "stream",
     "text": [
      "Total number of tiles 28\n"
     ]
    }
   ],
   "source": []
  },
  {
   "cell_type": "markdown",
   "metadata": {},
   "source": [
    "Explore the first tile.\n",
    "\n",
    "Find the kind of samples present in the assigned fibers"
   ]
  },
  {
   "cell_type": "code",
   "execution_count": 8,
   "metadata": {},
   "outputs": [],
   "source": [
    "tile_id = 0 \n",
    "tilefile = tile_names[0]\n",
    "assignments = Table.read(tilefile, 'FIBERASSIGN')\n",
    "potential = Table.read(tilefile, 'POTENTIAL_ASSIGNMENTS')\n",
    "\n",
    "n_assignments = len(assignments)"
   ]
  },
  {
   "cell_type": "code",
   "execution_count": 9,
   "metadata": {},
   "outputs": [],
   "source": [
    "desi_classes_in_assignment = []\n",
    "bgs_classes_in_assignment = []\n",
    "mws_classes_in_assignment = []\n",
    "\n",
    "for i in range(n_assignments):\n",
    "    desi_classes_in_assignment.extend(desi_mask.names(assignments['SV1_DESI_TARGET'][i]))\n",
    "    bgs_classes_in_assignment.extend(bgs_mask.names(assignments['SV1_BGS_TARGET'][i]))\n",
    "    mws_classes_in_assignment.extend(mws_mask.names(assignments['SV1_MWS_TARGET'][i]))"
   ]
  },
  {
   "cell_type": "code",
   "execution_count": 10,
   "metadata": {},
   "outputs": [
    {
     "name": "stdout",
     "output_type": "stream",
     "text": [
      "Counter({'BGS_ANY': 3990, 'SKY': 801, 'MWS_ANY': 175, 'STD_BRIGHT': 160, 'STD_FAINT': 137, 'STD_WD': 40})\n",
      "Counter({'BGS_BRIGHT': 3680, 'BGS_FAINT': 244, 'BGS_FAINT_EXT': 66, 'BGS_FIBMAG': 11})\n",
      "Counter({'MWS_MAIN_BLUE': 148, 'MWS_WD': 40, 'MWS_NEARBY': 5})\n"
     ]
    }
   ],
   "source": [
    "print(Counter(desi_classes_in_assignment))\n",
    "print(Counter(bgs_classes_in_assignment))\n",
    "print(Counter(mws_classes_in_assignment))"
   ]
  },
  {
   "cell_type": "markdown",
   "metadata": {},
   "source": [
    "Find the samples that were available to the fibers"
   ]
  },
  {
   "cell_type": "code",
   "execution_count": 11,
   "metadata": {},
   "outputs": [
    {
     "name": "stdout",
     "output_type": "stream",
     "text": [
      "19240\n"
     ]
    }
   ],
   "source": [
    "desi_classes_in_potential = []\n",
    "bgs_classes_in_potential = []\n",
    "mws_classes_in_potential = []\n",
    "\n",
    "ii = np.in1d(mtl_bgs['TARGETID'], potential['TARGETID'])\n",
    "mtl_bgs_available = mtl_bgs[ii]\n",
    "print(len(mtl_bgs_available))\n",
    "for t in mtl_bgs_available[['SV1_DESI_TARGET', 'SV1_BGS_TARGET','SV1_MWS_TARGET']]:\n",
    "    desi_classes_in_potential.extend(desi_mask.names(t['SV1_DESI_TARGET']))\n",
    "    bgs_classes_in_potential.extend(bgs_mask.names(t['SV1_BGS_TARGET']))\n",
    "    mws_classes_in_potential.extend(mws_mask.names(t['SV1_MWS_TARGET']))"
   ]
  },
  {
   "cell_type": "code",
   "execution_count": 12,
   "metadata": {},
   "outputs": [
    {
     "name": "stdout",
     "output_type": "stream",
     "text": [
      "Counter({'BGS_ANY': 17798, 'STD_BRIGHT': 1401, 'STD_FAINT': 943, 'MWS_ANY': 923, 'STD_WD': 41})\n",
      "Counter({'BGS_FAINT': 8093, 'BGS_BRIGHT': 7835, 'BGS_FAINT_EXT': 1870, 'BGS_FIBMAG': 263})\n",
      "Counter({'MWS_MAIN_BLUE': 889, 'MWS_WD': 41, 'MWS_NEARBY': 5})\n"
     ]
    }
   ],
   "source": [
    "print(Counter(desi_classes_in_potential))\n",
    "print(Counter(bgs_classes_in_potential))\n",
    "print(Counter(mws_classes_in_potential))"
   ]
  },
  {
   "cell_type": "code",
   "execution_count": 13,
   "metadata": {},
   "outputs": [],
   "source": [
    "assignments = list()\n",
    "for tilefile in tile_names:\n",
    "    assignments.append(Table.read(tilefile, 'FIBERASSIGN'))"
   ]
  },
  {
   "cell_type": "code",
   "execution_count": 15,
   "metadata": {},
   "outputs": [],
   "source": [
    "assigned_targetids = np.concatenate([tmp['TARGETID'] for tmp in assignments])\n",
    "isAssigned = np.in1d(mtl_bgs['TARGETID'], assigned_targetids)"
   ]
  },
  {
   "cell_type": "code",
   "execution_count": 16,
   "metadata": {},
   "outputs": [
    {
     "data": {
      "text/plain": [
       "Text(0.5,1,'Targets assigned to fibers')"
      ]
     },
     "execution_count": 16,
     "metadata": {},
     "output_type": "execute_result"
    },
    {
     "data": {
      "image/png": "[encoded data removed]",
      "text/plain": [
       "<matplotlib.figure.Figure at 0x2aaadd0a8a58>"
      ]
     },
     "metadata": {},
     "output_type": "display_data"
    }
   ],
   "source": [
    "plt.figure(figsize=(8,4))\n",
    "plt.plot(mtl_bgs['RA'][isAssigned], mtl_bgs['DEC'][isAssigned], 'k,')\n",
    "plt.title('Targets assigned to fibers')\n",
    "# plot_tiles(tiles)"
   ]
  },
  {
   "cell_type": "code",
   "execution_count": 24,
   "metadata": {},
   "outputs": [],
   "source": [
    "def get_assigned_covered(tiles, targets, outdir):\n",
    "    assigned_ids = list()\n",
    "    covered_ids = list()\n",
    "    for tileid in tiles['TILEID']:\n",
    "        tilefile = '{}/tile-{:06d}.fits'.format(outdir, tileid)\n",
    "        assignments = Table.read(tilefile, 'FIBERASSIGN')\n",
    "        assigned_ids.extend(assignments['TARGETID'])\n",
    "\n",
    "        #- Note: a single target could be covered by more than one fiber on the same\n",
    "        #- tile, but it still can only be assigned once, so use np.unique() per tile\n",
    "        #- to not double count those cases\n",
    "        potential = Table.read(tilefile, 'POTENTIAL_ASSIGNMENTS')\n",
    "        covered_ids.extend(np.unique(potential['TARGETID']))\n",
    "\n",
    "    #- Trim to just science targets (i.e. not SKY, not non-science STDSTAR)\n",
    "    assigned_ids = np.array(assigned_ids)\n",
    "    ii = np.in1d(assigned_ids, targets['TARGETID'])\n",
    "    assigned_ids = assigned_ids[ii]\n",
    "\n",
    "    covered_ids = np.array(covered_ids)\n",
    "    ii = np.in1d(covered_ids, targets['TARGETID'])\n",
    "    covered_ids = covered_ids[ii]\n",
    "\n",
    "    return assigned_ids, covered_ids\n",
    "\n",
    "#- Do a bit of counting magic to include targets that were never assigned or covered\n",
    "def count_coverage(ids, targets):\n",
    "    c = Counter(ids)\n",
    "    c.update(targets['TARGETID'])\n",
    "    count = np.array(list(c.values())) - 1\n",
    "    return count"
   ]
  },
  {
   "cell_type": "code",
   "execution_count": 25,
   "metadata": {},
   "outputs": [],
   "source": [
    "tiles = Table.read(\"/global/cscratch1/sd/mjwilson/svdc2019c/survey/SV_BGS-tiles.fits\")"
   ]
  },
  {
   "cell_type": "code",
   "execution_count": 26,
   "metadata": {},
   "outputs": [],
   "source": [
    "assigned_ids, covered_ids = get_assigned_covered(tiles, mtl_bgs, fib_dir)\n",
    "assigned_count = count_coverage(assigned_ids, mtl_bgs)\n",
    "covered_count = count_coverage(covered_ids, mtl_bgs)"
   ]
  },
  {
   "cell_type": "code",
   "execution_count": 27,
   "metadata": {},
   "outputs": [
    {
     "data": {
      "image/png": "[encoded data removed]",
      "text/plain": [
       "<matplotlib.figure.Figure at 0x2aaadd8ff128>"
      ]
     },
     "metadata": {},
     "output_type": "display_data"
    }
   ],
   "source": [
    "plt.subplot(211)\n",
    "plt.hist(assigned_count, 11, (-0.5, 10.5), rwidth=0.8)\n",
    "plt.xticks(np.arange(0,11))\n",
    "plt.xlabel('number of times assigned')\n",
    "\n",
    "plt.subplot(212)\n",
    "plt.hist(covered_count, 11, (-0.5, 10.5), rwidth=0.8)\n",
    "plt.xticks(np.arange(0,11))\n",
    "plt.xlabel('number of times covered')\n",
    "\n",
    "plt.tight_layout()"
   ]
  }
 ],
 "metadata": {
  "kernelspec": {
   "display_name": "DESI 19.2",
   "language": "python",
   "name": "desi-19.2"
  },
  "language_info": {
   "codemirror_mode": {
    "name": "ipython",
    "version": 3
   },
   "file_extension": ".py",
   "mimetype": "text/x-python",
   "name": "python",
   "nbconvert_exporter": "python",
   "pygments_lexer": "ipython3",
   "version": "3.6.6"
  }
 },
 "nbformat": 4,
 "nbformat_minor": 2
}

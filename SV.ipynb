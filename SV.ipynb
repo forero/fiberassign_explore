{
 "cells": [
  {
   "cell_type": "markdown",
   "metadata": {},
   "source": [
    "The main goal of this notebook is to explore SV simulated outputs\n",
    "from the SV data challenge `svdc2019c`"
   ]
  },
  {
   "cell_type": "code",
   "execution_count": 35,
   "metadata": {},
   "outputs": [],
   "source": [
    "import numpy as np\n",
    "import matplotlib.pyplot as plt\n",
    "import os\n",
    "import glob\n",
    "from astropy.table import Table\n",
    "from desitarget.targetmask import desi_mask, bgs_mask, mws_mask, obsconditions\n",
    "\n",
    "%matplotlib inline"
   ]
  },
  {
   "cell_type": "markdown",
   "metadata": {},
   "source": [
    "First some environment definitions"
   ]
  },
  {
   "cell_type": "code",
   "execution_count": 26,
   "metadata": {},
   "outputs": [],
   "source": [
    "sv_main_dir = '/global/cscratch1/sd/mjwilson/svdc2019c/' \n",
    "fiberassign_sub_dir = 'fiberassign/SV_BGS/'\n",
    "fib_dir = os.path.join(sv_main_dir, fiberassign_sub_dir)"
   ]
  },
  {
   "cell_type": "markdown",
   "metadata": {},
   "source": [
    "Make a list of all available tiles"
   ]
  },
  {
   "cell_type": "code",
   "execution_count": 27,
   "metadata": {},
   "outputs": [
    {
     "name": "stdout",
     "output_type": "stream",
     "text": [
      "/global/cscratch1/sd/mjwilson/svdc2019c/fiberassign/SV_BGS/\n"
     ]
    }
   ],
   "source": [
    "tile_names = glob.glob(fib_dir+\"/tile*.fits\")\n",
    "print(fib_dir)\n",
    "n_tiles = len(tile_names)"
   ]
  },
  {
   "cell_type": "code",
   "execution_count": 28,
   "metadata": {},
   "outputs": [
    {
     "name": "stdout",
     "output_type": "stream",
     "text": [
      "Total number of tiles 28\n"
     ]
    }
   ],
   "source": [
    "print('Total number of tiles {}'.format(n_tiles))"
   ]
  },
  {
   "cell_type": "markdown",
   "metadata": {},
   "source": [
    "Explore the first tile.\n",
    "\n",
    "Find the list of supersets in the assigned fibers"
   ]
  },
  {
   "cell_type": "code",
   "execution_count": 30,
   "metadata": {},
   "outputs": [],
   "source": [
    "tile_id = 0 \n",
    "tilefile = tile_names[0]\n",
    "assignments = Table.read(tilefile, 'FIBERASSIGN')\n",
    "potential = Table.read(tilefile, 'POTENTIAL_ASSIGNMENTS')\n"
   ]
  },
  {
   "cell_type": "code",
   "execution_count": 33,
   "metadata": {},
   "outputs": [],
   "source": [
    "assignments[:4]\n",
    "masks = ['SV1_DESI_TARGET', 'SV1_BGS_TARGET', 'SV1_MWS_TARGET']"
   ]
  },
  {
   "cell_type": "code",
   "execution_count": null,
   "metadata": {},
   "outputs": [],
   "source": [
    "bgs_mask"
   ]
  }
 ],
 "metadata": {
  "kernelspec": {
   "display_name": "DESI 19.2",
   "language": "python",
   "name": "desi-19.2"
  },
  "language_info": {
   "codemirror_mode": {
    "name": "ipython",
    "version": 3
   },
   "file_extension": ".py",
   "mimetype": "text/x-python",
   "name": "python",
   "nbconvert_exporter": "python",
   "pygments_lexer": "ipython3",
   "version": "3.6.6"
  }
 },
 "nbformat": 4,
 "nbformat_minor": 2
}

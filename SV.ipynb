{
 "cells": [
  {
   "cell_type": "markdown",
   "metadata": {},
   "source": [
    "The main goal of this notebook is to explore SV simulated outputs\n",
    "from the SV data challenge `svdc2019c`"
   ]
  },
  {
   "cell_type": "code",
   "execution_count": 1,
   "metadata": {},
   "outputs": [],
   "source": [
    "import numpy as np\n",
    "import matplotlib.pyplot as plt\n",
    "import os\n",
    "import glob\n",
    "from astropy.table import Table\n",
    "from desitarget.sv1.sv1_targetmask import desi_mask, bgs_mask, mws_mask\n",
    "from collections import Counter\n",
    "\n",
    "%matplotlib inline"
   ]
  },
  {
   "cell_type": "markdown",
   "metadata": {},
   "source": [
    "First some environment definitions"
   ]
  },
  {
   "cell_type": "code",
   "execution_count": 2,
   "metadata": {},
   "outputs": [],
   "source": [
    "sv_main_dir = '/global/cscratch1/sd/mjwilson/svdc2019c/' \n",
    "fiberassign_sub_dir = 'fiberassign/SV_BGS/'\n",
    "fib_dir = os.path.join(sv_main_dir, fiberassign_sub_dir)"
   ]
  },
  {
   "cell_type": "markdown",
   "metadata": {},
   "source": [
    "Read the input catalog data"
   ]
  },
  {
   "cell_type": "code",
   "execution_count": 3,
   "metadata": {},
   "outputs": [],
   "source": [
    "mtl_bgs = Table.read(os.path.join(sv_main_dir, 'targets', 'mtl-SV_BGS.fits'))"
   ]
  },
  {
   "cell_type": "markdown",
   "metadata": {},
   "source": [
    "Make a list of all available tiles"
   ]
  },
  {
   "cell_type": "code",
   "execution_count": 4,
   "metadata": {},
   "outputs": [
    {
     "name": "stdout",
     "output_type": "stream",
     "text": [
      "/global/cscratch1/sd/mjwilson/svdc2019c/fiberassign/SV_BGS/\n"
     ]
    }
   ],
   "source": [
    "tile_names = glob.glob(fib_dir+\"/tile*.fits\")\n",
    "print(fib_dir)\n",
    "n_tiles = len(tile_names)"
   ]
  },
  {
   "cell_type": "code",
   "execution_count": 5,
   "metadata": {},
   "outputs": [
    {
     "name": "stdout",
     "output_type": "stream",
     "text": [
      "Total number of tiles 28\n"
     ]
    }
   ],
   "source": [
    "print('Total number of tiles {}'.format(n_tiles))"
   ]
  },
  {
   "cell_type": "markdown",
   "metadata": {},
   "source": [
    "Explore the first tile.\n",
    "\n",
    "Find the kind of samples present in the assigned fibers"
   ]
  },
  {
   "cell_type": "code",
   "execution_count": 12,
   "metadata": {},
   "outputs": [],
   "source": [
    "tile_id = 0 \n",
    "tilefile = tile_names[0]\n",
    "assignments = Table.read(tilefile, 'FIBERASSIGN')\n",
    "potential = Table.read(tilefile, 'POTENTIAL_ASSIGNMENTS')\n",
    "\n",
    "n_assignments = len(assignments)"
   ]
  },
  {
   "cell_type": "code",
   "execution_count": 13,
   "metadata": {},
   "outputs": [],
   "source": [
    "desi_classes_in_assignment = []\n",
    "bgs_classes_in_assignment = []\n",
    "mws_classes_in_assignment = []\n",
    "\n",
    "for i in range(n_assignments):\n",
    "    desi_classes_in_assignment.extend(desi_mask.names(assignments['SV1_DESI_TARGET'][i]))\n",
    "    bgs_classes_in_assignment.extend(bgs_mask.names(assignments['SV1_BGS_TARGET'][i]))\n",
    "    mws_classes_in_assignment.extend(mws_mask.names(assignments['SV1_MWS_TARGET'][i]))"
   ]
  },
  {
   "cell_type": "code",
   "execution_count": 14,
   "metadata": {},
   "outputs": [
    {
     "name": "stdout",
     "output_type": "stream",
     "text": [
      "Counter({'BGS_ANY': 3990, 'SKY': 801, 'MWS_ANY': 175, 'STD_BRIGHT': 160, 'STD_FAINT': 137, 'STD_WD': 40})\n",
      "Counter({'BGS_BRIGHT': 3680, 'BGS_FAINT': 244, 'BGS_FAINT_EXT': 66, 'BGS_FIBMAG': 11})\n",
      "Counter({'MWS_MAIN_BLUE': 148, 'MWS_WD': 40, 'MWS_NEARBY': 5})\n"
     ]
    }
   ],
   "source": [
    "print(Counter(desi_classes_in_assignment))\n",
    "print(Counter(bgs_classes_in_assignment))\n",
    "print(Counter(mws_classes_in_assignment))"
   ]
  },
  {
   "cell_type": "markdown",
   "metadata": {},
   "source": [
    "Find the samples that were available to the fibers"
   ]
  },
  {
   "cell_type": "code",
   "execution_count": 15,
   "metadata": {},
   "outputs": [
    {
     "name": "stdout",
     "output_type": "stream",
     "text": [
      "19240\n"
     ]
    }
   ],
   "source": [
    "desi_classes_in_potential = []\n",
    "bgs_classes_in_potential = []\n",
    "mws_classes_in_potential = []\n",
    "\n",
    "ii = np.in1d(mtl_bgs['TARGETID'], potential['TARGETID'])\n",
    "mtl_bgs_available = mtl_bgs[ii]\n",
    "print(len(mtl_bgs_available))\n",
    "for t in mtl_bgs_available[['SV1_DESI_TARGET', 'SV1_BGS_TARGET','SV1_MWS_TARGET']]:\n",
    "    desi_classes_in_potential.extend(desi_mask.names(t['SV1_DESI_TARGET']))\n",
    "    bgs_classes_in_potential.extend(bgs_mask.names(t['SV1_BGS_TARGET']))\n",
    "    mws_classes_in_potential.extend(mws_mask.names(t['SV1_MWS_TARGET']))"
   ]
  },
  {
   "cell_type": "code",
   "execution_count": 16,
   "metadata": {},
   "outputs": [
    {
     "name": "stdout",
     "output_type": "stream",
     "text": [
      "Counter({'BGS_ANY': 17798, 'STD_BRIGHT': 1401, 'STD_FAINT': 943, 'MWS_ANY': 923, 'STD_WD': 41})\n",
      "Counter({'BGS_FAINT': 8093, 'BGS_BRIGHT': 7835, 'BGS_FAINT_EXT': 1870, 'BGS_FIBMAG': 263})\n",
      "Counter({'MWS_MAIN_BLUE': 889, 'MWS_WD': 41, 'MWS_NEARBY': 5})\n"
     ]
    }
   ],
   "source": [
    "print(Counter(desi_classes_in_potential))\n",
    "print(Counter(bgs_classes_in_potential))\n",
    "print(Counter(mws_classes_in_potential))"
   ]
  },
  {
   "cell_type": "code",
   "execution_count": null,
   "metadata": {},
   "outputs": [],
   "source": []
  }
 ],
 "metadata": {
  "kernelspec": {
   "display_name": "DESI 19.2",
   "language": "python",
   "name": "desi-19.2"
  },
  "language_info": {
   "codemirror_mode": {
    "name": "ipython",
    "version": 3
   },
   "file_extension": ".py",
   "mimetype": "text/x-python",
   "name": "python",
   "nbconvert_exporter": "python",
   "pygments_lexer": "ipython3",
   "version": "3.6.6"
  }
 },
 "nbformat": 4,
 "nbformat_minor": 2
}
